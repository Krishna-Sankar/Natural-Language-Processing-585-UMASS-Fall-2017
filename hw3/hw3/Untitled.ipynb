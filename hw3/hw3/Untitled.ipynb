{
 "cells": [
  {
   "cell_type": "markdown",
   "metadata": {},
   "source": [
    "### Question 1"
   ]
  },
  {
   "cell_type": "code",
   "execution_count": null,
   "metadata": {},
   "outputs": [],
   "source": [
    "from collections import defaultdict\n",
    "tokens=[]\n",
    "POSITIVE_SEED=[\"good\", \"nice\", \"love\", \"excellent\", \"fortunate\", \"correct\", \"superior\"]\n",
    "NEGATIVE_SEED=[\"bad\", \"nasty\", \"poor\", \"hate\", \"unfortunate\", \"wrong\", \"inferior\"]\n",
    "pos_counts=defaultdict(float)   \n",
    "neg_counts=defaultdict(float)"
   ]
  },
  {
   "cell_type": "code",
   "execution_count": null,
   "metadata": {},
   "outputs": [],
   "source": [
    "with open(\"tweets.txt\",'r') as fh:\n",
    "     for lines in fh:\n",
    "        tokens=lines.split()\n",
    "        for i in tokens:\n",
    "            for seed in POSITIVE_SEED:\n",
    "                pos_counts[i]+=tokens.count(seed)\n",
    "            for seed in NEGATIVE_SEED:\n",
    "                neg_counts[i]+=tokens.count(seed)     \n",
    "     print \"Hi\"  "
   ]
  },
  {
   "cell_type": "code",
   "execution_count": null,
   "metadata": {
    "collapsed": true
   },
   "outputs": [],
   "source": []
  }
 ],
 "metadata": {
  "kernelspec": {
   "display_name": "Python 2",
   "language": "python",
   "name": "python2"
  },
  "language_info": {
   "codemirror_mode": {
    "name": "ipython",
    "version": 2
   },
   "file_extension": ".py",
   "mimetype": "text/x-python",
   "name": "python",
   "nbconvert_exporter": "python",
   "pygments_lexer": "ipython2",
   "version": "2.7.13"
  }
 },
 "nbformat": 4,
 "nbformat_minor": 2
}
